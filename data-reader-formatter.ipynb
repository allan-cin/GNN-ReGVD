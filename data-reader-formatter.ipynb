{
 "cells": [
  {
   "cell_type": "code",
   "execution_count": 1,
   "metadata": {
    "collapsed": true,
    "ExecuteTime": {
     "end_time": "2023-08-11T06:45:26.718684800Z",
     "start_time": "2023-08-11T06:45:26.228404500Z"
    }
   },
   "outputs": [],
   "source": [
    "import pandas as pd\n",
    "import json"
   ]
  },
  {
   "cell_type": "code",
   "execution_count": 37,
   "outputs": [],
   "source": [
    "data_file_path = \"./dataset/msr/MSR_data_cleaned.csv\"\n",
    "json_out_file_path = \"./dataset/msr/msr.json\"\n",
    "msr_1000_file_path = \"./dataset/msr/msr_balanced_1000.json\"\n",
    "msr_500_file_path = \"./dataset/msr/msr_balanced_500.json\"\n",
    "train_idxs_out_file = \"./dataset/msr/train_msr.txt\"\n",
    "test_idxs_out_file = \"./dataset/msr/test_msr.txt\"\n",
    "valid_idxs_out_file = \"./dataset/msr/valid_msr.txt\""
   ],
   "metadata": {
    "collapsed": false,
    "ExecuteTime": {
     "end_time": "2023-08-11T07:10:03.461957800Z",
     "start_time": "2023-08-11T07:10:03.412507500Z"
    }
   }
  },
  {
   "cell_type": "code",
   "execution_count": 3,
   "outputs": [
    {
     "data": {
      "text/plain": "                                  commit_id  \\\n0  b000da128b5fb519d2d3f2e7fd20e4a25b7dae7d   \n1  b000da128b5fb519d2d3f2e7fd20e4a25b7dae7d   \n2  b000da128b5fb519d2d3f2e7fd20e4a25b7dae7d   \n3  b000da128b5fb519d2d3f2e7fd20e4a25b7dae7d   \n4  b000da128b5fb519d2d3f2e7fd20e4a25b7dae7d   \n\n                                         func_before lang project  vul  \n0  static bool check_rodc_critical_attribute(stru...    C   samba    0  \n1  static int samldb_add_entry(struct samldb_ctx ...    C   samba    0  \n2  static int samldb_add_entry_callback(struct ld...    C   samba    0  \n3  static int samldb_add_handle_msDS_IntId(struct...    C   samba    0  \n4  static int samldb_add_step(struct samldb_ctx *...    C   samba    0  ",
      "text/html": "<div>\n<style scoped>\n    .dataframe tbody tr th:only-of-type {\n        vertical-align: middle;\n    }\n\n    .dataframe tbody tr th {\n        vertical-align: top;\n    }\n\n    .dataframe thead th {\n        text-align: right;\n    }\n</style>\n<table border=\"1\" class=\"dataframe\">\n  <thead>\n    <tr style=\"text-align: right;\">\n      <th></th>\n      <th>commit_id</th>\n      <th>func_before</th>\n      <th>lang</th>\n      <th>project</th>\n      <th>vul</th>\n    </tr>\n  </thead>\n  <tbody>\n    <tr>\n      <th>0</th>\n      <td>b000da128b5fb519d2d3f2e7fd20e4a25b7dae7d</td>\n      <td>static bool check_rodc_critical_attribute(stru...</td>\n      <td>C</td>\n      <td>samba</td>\n      <td>0</td>\n    </tr>\n    <tr>\n      <th>1</th>\n      <td>b000da128b5fb519d2d3f2e7fd20e4a25b7dae7d</td>\n      <td>static int samldb_add_entry(struct samldb_ctx ...</td>\n      <td>C</td>\n      <td>samba</td>\n      <td>0</td>\n    </tr>\n    <tr>\n      <th>2</th>\n      <td>b000da128b5fb519d2d3f2e7fd20e4a25b7dae7d</td>\n      <td>static int samldb_add_entry_callback(struct ld...</td>\n      <td>C</td>\n      <td>samba</td>\n      <td>0</td>\n    </tr>\n    <tr>\n      <th>3</th>\n      <td>b000da128b5fb519d2d3f2e7fd20e4a25b7dae7d</td>\n      <td>static int samldb_add_handle_msDS_IntId(struct...</td>\n      <td>C</td>\n      <td>samba</td>\n      <td>0</td>\n    </tr>\n    <tr>\n      <th>4</th>\n      <td>b000da128b5fb519d2d3f2e7fd20e4a25b7dae7d</td>\n      <td>static int samldb_add_step(struct samldb_ctx *...</td>\n      <td>C</td>\n      <td>samba</td>\n      <td>0</td>\n    </tr>\n  </tbody>\n</table>\n</div>"
     },
     "execution_count": 3,
     "metadata": {},
     "output_type": "execute_result"
    }
   ],
   "source": [
    "# Access Gained,Attack Origin,Authentication Required,Availability,CVE ID,CVE Page,CWE ID,Complexity,Confidentiality,Integrity,Known Exploits,Publish Date,Score,Summary,Update Date,Vulnerability Classification,add_lines,codeLink,commit_id,commit_message,del_lines,file_name,files_changed,func_after,func_before,lang,lines_after,lines_before,parentID,patch,project,project_after,project_before,vul,vul_func_with_fix\n",
    "\n",
    "cols = [\"project\", \"lang\", \"commit_id\", \"func_before\", \"vul\"]\n",
    "cols_mapped = [\"project\", \"commit_id\", \"func\", \"target\"]\n",
    "msr = pd.read_csv(\n",
    "    filepath_or_buffer=data_file_path,\n",
    "    usecols=cols\n",
    ")\n",
    "msr.head()"
   ],
   "metadata": {
    "collapsed": false,
    "ExecuteTime": {
     "end_time": "2023-08-11T06:46:23.546596800Z",
     "start_time": "2023-08-11T06:45:26.725684100Z"
    }
   }
  },
  {
   "cell_type": "code",
   "execution_count": 5,
   "outputs": [
    {
     "data": {
      "text/plain": "0    175211\n1     10786\nName: vul, dtype: int64"
     },
     "execution_count": 5,
     "metadata": {},
     "output_type": "execute_result"
    }
   ],
   "source": [
    "msr.drop(\n",
    "    msr[msr.lang != \"C\"].index,\n",
    "    inplace=True\n",
    ")\n",
    "msr.vul.value_counts()"
   ],
   "metadata": {
    "collapsed": false,
    "ExecuteTime": {
     "end_time": "2023-08-11T06:46:45.583150300Z",
     "start_time": "2023-08-11T06:46:45.552038400Z"
    }
   }
  },
  {
   "cell_type": "code",
   "execution_count": 6,
   "outputs": [
    {
     "data": {
      "text/plain": "C    185997\nName: lang, dtype: int64"
     },
     "execution_count": 6,
     "metadata": {},
     "output_type": "execute_result"
    }
   ],
   "source": [
    "msr.lang.value_counts()"
   ],
   "metadata": {
    "collapsed": false,
    "ExecuteTime": {
     "end_time": "2023-08-11T06:46:49.610018600Z",
     "start_time": "2023-08-11T06:46:49.598020600Z"
    }
   }
  },
  {
   "cell_type": "code",
   "execution_count": 7,
   "outputs": [],
   "source": [
    "msr.rename(\n",
    "    columns={\n",
    "        \"func_before\": \"func\",\n",
    "        \"vul\": \"target\"\n",
    "    },\n",
    "    inplace=True\n",
    ")\n",
    "\n",
    "msr.drop(\n",
    "    columns=[\"lang\"],\n",
    "    inplace=True\n",
    ")"
   ],
   "metadata": {
    "collapsed": false,
    "ExecuteTime": {
     "end_time": "2023-08-11T06:46:57.114551800Z",
     "start_time": "2023-08-11T06:46:57.111459500Z"
    }
   }
  },
  {
   "cell_type": "code",
   "execution_count": null,
   "outputs": [],
   "source": [],
   "metadata": {
    "collapsed": false
   }
  },
  {
   "cell_type": "code",
   "execution_count": 12,
   "outputs": [],
   "source": [
    "# import json\n",
    "#\n",
    "# msr.to_json(\n",
    "#     path_or_buf=json_out_file_path,\n",
    "#     # index=False,\n",
    "#     orient=\"records\"\n",
    "# )\n",
    "#\n",
    "# # with open(\"sample.json\", \"w\") as outfile:\n",
    "# #     json.dump(dictionary, outfile)"
   ],
   "metadata": {
    "collapsed": false,
    "ExecuteTime": {
     "end_time": "2023-08-07T03:19:57.279734800Z",
     "start_time": "2023-08-07T03:19:57.018738200Z"
    }
   }
  },
  {
   "cell_type": "code",
   "execution_count": 16,
   "outputs": [
    {
     "data": {
      "text/plain": "                                  commit_id  \\\n0  b000da128b5fb519d2d3f2e7fd20e4a25b7dae7d   \n1  b000da128b5fb519d2d3f2e7fd20e4a25b7dae7d   \n2  b000da128b5fb519d2d3f2e7fd20e4a25b7dae7d   \n3  b000da128b5fb519d2d3f2e7fd20e4a25b7dae7d   \n4  b000da128b5fb519d2d3f2e7fd20e4a25b7dae7d   \n\n                                                func project  target  \n0  static bool check_rodc_critical_attribute(stru...   samba       0  \n1  static int samldb_add_entry(struct samldb_ctx ...   samba       0  \n2  static int samldb_add_entry_callback(struct ld...   samba       0  \n3  static int samldb_add_handle_msDS_IntId(struct...   samba       0  \n4  static int samldb_add_step(struct samldb_ctx *...   samba       0  ",
      "text/html": "<div>\n<style scoped>\n    .dataframe tbody tr th:only-of-type {\n        vertical-align: middle;\n    }\n\n    .dataframe tbody tr th {\n        vertical-align: top;\n    }\n\n    .dataframe thead th {\n        text-align: right;\n    }\n</style>\n<table border=\"1\" class=\"dataframe\">\n  <thead>\n    <tr style=\"text-align: right;\">\n      <th></th>\n      <th>commit_id</th>\n      <th>func</th>\n      <th>project</th>\n      <th>target</th>\n    </tr>\n  </thead>\n  <tbody>\n    <tr>\n      <th>0</th>\n      <td>b000da128b5fb519d2d3f2e7fd20e4a25b7dae7d</td>\n      <td>static bool check_rodc_critical_attribute(stru...</td>\n      <td>samba</td>\n      <td>0</td>\n    </tr>\n    <tr>\n      <th>1</th>\n      <td>b000da128b5fb519d2d3f2e7fd20e4a25b7dae7d</td>\n      <td>static int samldb_add_entry(struct samldb_ctx ...</td>\n      <td>samba</td>\n      <td>0</td>\n    </tr>\n    <tr>\n      <th>2</th>\n      <td>b000da128b5fb519d2d3f2e7fd20e4a25b7dae7d</td>\n      <td>static int samldb_add_entry_callback(struct ld...</td>\n      <td>samba</td>\n      <td>0</td>\n    </tr>\n    <tr>\n      <th>3</th>\n      <td>b000da128b5fb519d2d3f2e7fd20e4a25b7dae7d</td>\n      <td>static int samldb_add_handle_msDS_IntId(struct...</td>\n      <td>samba</td>\n      <td>0</td>\n    </tr>\n    <tr>\n      <th>4</th>\n      <td>b000da128b5fb519d2d3f2e7fd20e4a25b7dae7d</td>\n      <td>static int samldb_add_step(struct samldb_ctx *...</td>\n      <td>samba</td>\n      <td>0</td>\n    </tr>\n  </tbody>\n</table>\n</div>"
     },
     "execution_count": 16,
     "metadata": {},
     "output_type": "execute_result"
    }
   ],
   "source": [
    "msr.head()"
   ],
   "metadata": {
    "collapsed": false,
    "ExecuteTime": {
     "end_time": "2023-08-07T03:38:43.868347300Z",
     "start_time": "2023-08-07T03:38:43.865346100Z"
    }
   }
  },
  {
   "cell_type": "code",
   "execution_count": 8,
   "outputs": [],
   "source": [
    "from sklearn.model_selection import train_test_split\n",
    "\n",
    "\n",
    "def split_3(\n",
    "    df_input: pd.DataFrame,\n",
    "    stratify_col: str = 'target',\n",
    "    frac_train: float = 0.6,\n",
    "    frac_test: float = 0.25,\n",
    "    frac_val: float = 0.15,\n",
    "    random_state=None\n",
    "):\n",
    "    if frac_train + frac_val + frac_test != 1.0:\n",
    "        frac_train = 0.6\n",
    "        frac_test = 0.25\n",
    "        frac_val = 0.15\n",
    "        print(f\"Invalid ratio, defaulting to train {frac_train}, test {frac_test}, val {frac_val}\")\n",
    "\n",
    "    if stratify_col not in df_input:\n",
    "        stratify_col = 'target'\n",
    "        print(f\"Invalid col, defaulting to {stratify_col}\")\n",
    "\n",
    "    X = df_input  # Contains all columns.\n",
    "    y = df_input[[stratify_col]]  # Dataframe of just the column on which to stratify.\n",
    "\n",
    "    # Split original dataframe into train and temp dataframes.\n",
    "    df_train, df_temp, y_train, y_temp = train_test_split(\n",
    "        X,\n",
    "        y,\n",
    "        stratify=y,\n",
    "        test_size=(1.0 - frac_train),\n",
    "        random_state=random_state\n",
    "    )\n",
    "\n",
    "    # Split the temp dataframe into val and test dataframes.\n",
    "    relative_frac_test = frac_test / (frac_val + frac_test)\n",
    "    df_val, df_test, y_val, y_test = train_test_split(\n",
    "        df_temp,\n",
    "        y_temp,\n",
    "        stratify=y_temp,\n",
    "        test_size=relative_frac_test,\n",
    "        random_state=random_state\n",
    "    )\n",
    "\n",
    "    assert len(df_input) == len(df_train) + len(df_val) + len(df_test)\n",
    "\n",
    "    return df_train, df_val, df_test"
   ],
   "metadata": {
    "collapsed": false,
    "ExecuteTime": {
     "end_time": "2023-08-11T06:49:48.246110300Z",
     "start_time": "2023-08-11T06:49:47.723859400Z"
    }
   }
  },
  {
   "cell_type": "code",
   "execution_count": 10,
   "outputs": [
    {
     "name": "stdout",
     "output_type": "stream",
     "text": [
      "(111598, 4) (27899, 4) (46500, 4)\n"
     ]
    }
   ],
   "source": [
    "train, val, test = split_3(\n",
    "    df_input=msr\n",
    ")\n",
    "print(train.shape, val.shape, test.shape)"
   ],
   "metadata": {
    "collapsed": false,
    "ExecuteTime": {
     "end_time": "2023-08-11T06:51:15.139242800Z",
     "start_time": "2023-08-11T06:51:14.193335200Z"
    }
   }
  },
  {
   "cell_type": "code",
   "execution_count": 12,
   "outputs": [
    {
     "data": {
      "text/plain": "0    105126\n1      6472\nName: target, dtype: int64"
     },
     "execution_count": 12,
     "metadata": {},
     "output_type": "execute_result"
    }
   ],
   "source": [
    "train.target.value_counts()"
   ],
   "metadata": {
    "collapsed": false,
    "ExecuteTime": {
     "end_time": "2023-08-11T06:51:37.009655200Z",
     "start_time": "2023-08-11T06:51:37.000658600Z"
    }
   }
  },
  {
   "cell_type": "code",
   "execution_count": 25,
   "outputs": [
    {
     "data": {
      "text/plain": "0    26281\n1     1618\nName: target, dtype: int64"
     },
     "execution_count": 25,
     "metadata": {},
     "output_type": "execute_result"
    }
   ],
   "source": [
    "val.target.value_counts()"
   ],
   "metadata": {
    "collapsed": false,
    "ExecuteTime": {
     "end_time": "2023-08-07T03:40:14.353745200Z",
     "start_time": "2023-08-07T03:40:14.347746900Z"
    }
   }
  },
  {
   "cell_type": "code",
   "execution_count": 26,
   "outputs": [
    {
     "data": {
      "text/plain": "0    43804\n1     2696\nName: target, dtype: int64"
     },
     "execution_count": 26,
     "metadata": {},
     "output_type": "execute_result"
    }
   ],
   "source": [
    "test.target.value_counts()"
   ],
   "metadata": {
    "collapsed": false,
    "ExecuteTime": {
     "end_time": "2023-08-07T03:40:21.129429900Z",
     "start_time": "2023-08-07T03:40:21.112431500Z"
    }
   }
  },
  {
   "cell_type": "code",
   "execution_count": 27,
   "outputs": [
    {
     "data": {
      "text/plain": "                                       commit_id  \\\n99101   6c5d779aaf0dec9628da8a20751e95fd09554b14   \n38813   31400a673325147e1205326008e32135a78b4d8a   \n17690   55caa8b08c84af2b50fbc936cf334a5a93dd7db5   \n142177  d4e0a7273cd8d7a9ee667ad5b5c8aad0f5f59251   \n7489    7d65a3a6ed8815e34a99c680ac3869fde49dbbd4   \n\n                                                     func   project  target  \n99101   void ResourceDispatcherHost::OnReadCompleted(U...    Chrome       0  \n38813   box_ht(BOX *box)\\n{\\n\\treturn box->high.y - bo...  postgres       0  \n17690   ProcXFixesQueryVersion(ClientPtr client)\\n{\\n ...   xserver       0  \n142177    std::string GetMimeType(const AddEntriesMess...    Chrome       0  \n7489    _dbus_validate_signature_with_reason (const DB...      dbus       0  ",
      "text/html": "<div>\n<style scoped>\n    .dataframe tbody tr th:only-of-type {\n        vertical-align: middle;\n    }\n\n    .dataframe tbody tr th {\n        vertical-align: top;\n    }\n\n    .dataframe thead th {\n        text-align: right;\n    }\n</style>\n<table border=\"1\" class=\"dataframe\">\n  <thead>\n    <tr style=\"text-align: right;\">\n      <th></th>\n      <th>commit_id</th>\n      <th>func</th>\n      <th>project</th>\n      <th>target</th>\n    </tr>\n  </thead>\n  <tbody>\n    <tr>\n      <th>99101</th>\n      <td>6c5d779aaf0dec9628da8a20751e95fd09554b14</td>\n      <td>void ResourceDispatcherHost::OnReadCompleted(U...</td>\n      <td>Chrome</td>\n      <td>0</td>\n    </tr>\n    <tr>\n      <th>38813</th>\n      <td>31400a673325147e1205326008e32135a78b4d8a</td>\n      <td>box_ht(BOX *box)\\n{\\n\\treturn box-&gt;high.y - bo...</td>\n      <td>postgres</td>\n      <td>0</td>\n    </tr>\n    <tr>\n      <th>17690</th>\n      <td>55caa8b08c84af2b50fbc936cf334a5a93dd7db5</td>\n      <td>ProcXFixesQueryVersion(ClientPtr client)\\n{\\n ...</td>\n      <td>xserver</td>\n      <td>0</td>\n    </tr>\n    <tr>\n      <th>142177</th>\n      <td>d4e0a7273cd8d7a9ee667ad5b5c8aad0f5f59251</td>\n      <td>std::string GetMimeType(const AddEntriesMess...</td>\n      <td>Chrome</td>\n      <td>0</td>\n    </tr>\n    <tr>\n      <th>7489</th>\n      <td>7d65a3a6ed8815e34a99c680ac3869fde49dbbd4</td>\n      <td>_dbus_validate_signature_with_reason (const DB...</td>\n      <td>dbus</td>\n      <td>0</td>\n    </tr>\n  </tbody>\n</table>\n</div>"
     },
     "execution_count": 27,
     "metadata": {},
     "output_type": "execute_result"
    }
   ],
   "source": [
    "train.head()"
   ],
   "metadata": {
    "collapsed": false,
    "ExecuteTime": {
     "end_time": "2023-08-07T03:40:38.135386200Z",
     "start_time": "2023-08-07T03:40:38.052523500Z"
    }
   }
  },
  {
   "cell_type": "code",
   "execution_count": 32,
   "outputs": [],
   "source": [
    "import numpy as np\n",
    "def  indexes_to_file(\n",
    "    df_input: pd.DataFrame,\n",
    "    out_file: str\n",
    "):\n",
    "    idxs = list(train.index.values)\n",
    "    np.savetxt(out_file, idxs, delimiter=\"\\n\", fmt=\"%s\")\n",
    "\n",
    "indexes_to_file(train, train_idxs_out_file)\n",
    "indexes_to_file(test, test_idxs_out_file)\n",
    "indexes_to_file(val, valid_idxs_out_file)"
   ],
   "metadata": {
    "collapsed": false,
    "ExecuteTime": {
     "end_time": "2023-08-07T03:48:35.840084400Z",
     "start_time": "2023-08-07T03:48:35.084616400Z"
    }
   }
  },
  {
   "cell_type": "code",
   "execution_count": 25,
   "outputs": [
    {
     "name": "stdout",
     "output_type": "stream",
     "text": [
      "0    500\n",
      "Name: target, dtype: int64\n",
      "1    500\n",
      "Name: target, dtype: int64\n",
      "1    500\n",
      "0    500\n",
      "Name: target, dtype: int64\n"
     ]
    }
   ],
   "source": [
    "# def generate_balance_dataset(df: pd.DataFrame):\n",
    "msr_head = msr.head(500)\n",
    "msr_tail = msr.tail(500)\n",
    "msr_balanced_500 = pd.concat([msr_head, msr_tail])\n",
    "\n",
    "print(msr_head.target.value_counts())\n",
    "print(msr_tail.target.value_counts())\n",
    "print(msr_balanced_500.target.value_counts())"
   ],
   "metadata": {
    "collapsed": false,
    "ExecuteTime": {
     "end_time": "2023-08-11T07:00:14.745000700Z",
     "start_time": "2023-08-11T07:00:14.738000800Z"
    }
   }
  },
  {
   "cell_type": "code",
   "execution_count": 26,
   "outputs": [
    {
     "data": {
      "text/plain": "                                       commit_id  \\\n0       b000da128b5fb519d2d3f2e7fd20e4a25b7dae7d   \n1       b000da128b5fb519d2d3f2e7fd20e4a25b7dae7d   \n2       b000da128b5fb519d2d3f2e7fd20e4a25b7dae7d   \n3       b000da128b5fb519d2d3f2e7fd20e4a25b7dae7d   \n4       b000da128b5fb519d2d3f2e7fd20e4a25b7dae7d   \n...                                          ...   \n188631  58a6822d7140137ce957c6d2fc20bae1374186c1   \n188632  58a6822d7140137ce957c6d2fc20bae1374186c1   \n188633  d72ea85c78a1a68bf99fd5804ad9784b4102fe57   \n188634  9fe27a9b445f7e911286ed31c1087ceac567736b   \n188635  d4a34fefbf292d1e02336e4e272da3ef1e3eef85   \n\n                                                     func  project  target  \n0       static bool check_rodc_critical_attribute(stru...    samba       0  \n1       static int samldb_add_entry(struct samldb_ctx ...    samba       0  \n2       static int samldb_add_entry_callback(struct ld...    samba       0  \n3       static int samldb_add_handle_msDS_IntId(struct...    samba       0  \n4       static int samldb_add_step(struct samldb_ctx *...    samba       0  \n...                                                   ...      ...     ...  \n188631  void impeg2d_dec_p_mb_params(dec_state_t *ps_d...  Android       1  \n188632  void impeg2d_dec_pnb_mb_params(dec_state_t *ps...  Android       1  \n188633  int equalizer_get_parameter(effect_context_t *...  Android       1  \n188634  uint8_t rfc_parse_data(tRFC_MCB* p_mcb, MX_FRA...  Android       1  \n188635  uint8_t rfc_parse_data(tRFC_MCB* p_mcb, MX_FRA...  Android       1  \n\n[1000 rows x 4 columns]",
      "text/html": "<div>\n<style scoped>\n    .dataframe tbody tr th:only-of-type {\n        vertical-align: middle;\n    }\n\n    .dataframe tbody tr th {\n        vertical-align: top;\n    }\n\n    .dataframe thead th {\n        text-align: right;\n    }\n</style>\n<table border=\"1\" class=\"dataframe\">\n  <thead>\n    <tr style=\"text-align: right;\">\n      <th></th>\n      <th>commit_id</th>\n      <th>func</th>\n      <th>project</th>\n      <th>target</th>\n    </tr>\n  </thead>\n  <tbody>\n    <tr>\n      <th>0</th>\n      <td>b000da128b5fb519d2d3f2e7fd20e4a25b7dae7d</td>\n      <td>static bool check_rodc_critical_attribute(stru...</td>\n      <td>samba</td>\n      <td>0</td>\n    </tr>\n    <tr>\n      <th>1</th>\n      <td>b000da128b5fb519d2d3f2e7fd20e4a25b7dae7d</td>\n      <td>static int samldb_add_entry(struct samldb_ctx ...</td>\n      <td>samba</td>\n      <td>0</td>\n    </tr>\n    <tr>\n      <th>2</th>\n      <td>b000da128b5fb519d2d3f2e7fd20e4a25b7dae7d</td>\n      <td>static int samldb_add_entry_callback(struct ld...</td>\n      <td>samba</td>\n      <td>0</td>\n    </tr>\n    <tr>\n      <th>3</th>\n      <td>b000da128b5fb519d2d3f2e7fd20e4a25b7dae7d</td>\n      <td>static int samldb_add_handle_msDS_IntId(struct...</td>\n      <td>samba</td>\n      <td>0</td>\n    </tr>\n    <tr>\n      <th>4</th>\n      <td>b000da128b5fb519d2d3f2e7fd20e4a25b7dae7d</td>\n      <td>static int samldb_add_step(struct samldb_ctx *...</td>\n      <td>samba</td>\n      <td>0</td>\n    </tr>\n    <tr>\n      <th>...</th>\n      <td>...</td>\n      <td>...</td>\n      <td>...</td>\n      <td>...</td>\n    </tr>\n    <tr>\n      <th>188631</th>\n      <td>58a6822d7140137ce957c6d2fc20bae1374186c1</td>\n      <td>void impeg2d_dec_p_mb_params(dec_state_t *ps_d...</td>\n      <td>Android</td>\n      <td>1</td>\n    </tr>\n    <tr>\n      <th>188632</th>\n      <td>58a6822d7140137ce957c6d2fc20bae1374186c1</td>\n      <td>void impeg2d_dec_pnb_mb_params(dec_state_t *ps...</td>\n      <td>Android</td>\n      <td>1</td>\n    </tr>\n    <tr>\n      <th>188633</th>\n      <td>d72ea85c78a1a68bf99fd5804ad9784b4102fe57</td>\n      <td>int equalizer_get_parameter(effect_context_t *...</td>\n      <td>Android</td>\n      <td>1</td>\n    </tr>\n    <tr>\n      <th>188634</th>\n      <td>9fe27a9b445f7e911286ed31c1087ceac567736b</td>\n      <td>uint8_t rfc_parse_data(tRFC_MCB* p_mcb, MX_FRA...</td>\n      <td>Android</td>\n      <td>1</td>\n    </tr>\n    <tr>\n      <th>188635</th>\n      <td>d4a34fefbf292d1e02336e4e272da3ef1e3eef85</td>\n      <td>uint8_t rfc_parse_data(tRFC_MCB* p_mcb, MX_FRA...</td>\n      <td>Android</td>\n      <td>1</td>\n    </tr>\n  </tbody>\n</table>\n<p>1000 rows × 4 columns</p>\n</div>"
     },
     "execution_count": 26,
     "metadata": {},
     "output_type": "execute_result"
    }
   ],
   "source": [
    "msr_balanced_500"
   ],
   "metadata": {
    "collapsed": false,
    "ExecuteTime": {
     "end_time": "2023-08-11T07:00:15.147889300Z",
     "start_time": "2023-08-11T07:00:15.125890300Z"
    }
   }
  },
  {
   "cell_type": "code",
   "execution_count": 27,
   "outputs": [
    {
     "data": {
      "text/plain": "                                       commit_id  \\\n188459  04839626ed859623901ebd3a5fd483982186b59d   \n188635  d4a34fefbf292d1e02336e4e272da3ef1e3eef85   \n188527  5a9753fca56f0eeb9f61e342b2fccffc364f9426   \n188417  04839626ed859623901ebd3a5fd483982186b59d   \n188603  5a9753fca56f0eeb9f61e342b2fccffc364f9426   \n...                                          ...   \n188238  295c883fe3105b19bcd0f9e07d54c6b589fc5bff   \n188255  ca8ac8acdad662230ae37998c6c4091bb39402b6   \n188605  5a9753fca56f0eeb9f61e342b2fccffc364f9426   \n203     1ddf72180a52d247db88ea42a3e35f824a8fbda2   \n54      c351b47ce85a3a147cfa801fa9f0149ab4160834   \n\n                                                     func  project  target  \n188459  SeekHead::SeekHead(\\n    Segment* pSegment,\\n ...  Android       1  \n188635  uint8_t rfc_parse_data(tRFC_MCB* p_mcb, MX_FRA...  Android       1  \n188527     virtual void SetUp() {\\n     UUT_ = GET_PAR...  Android       1  \n188417  void CuePoint::Load(IMkvReader* pReader)\\n{\\n ...  Android       1  \n188603     SvcTest()\\n       : codec_iface_(0),\\n     ...  Android       1  \n...                                                   ...      ...     ...  \n188238  OMX_ERRORTYPE SoftOpus::internalGetParameter(\\...  Android       1  \n188255  bool CmapCoverage::getCoverage(SparseBitSet& c...  Android       1  \n188605  int main(int argc, char **argv) {\\n ::testing:...  Android       1  \n203     int phar_mount_entry(phar_archive_data *phar, ...      php       0  \n54      PHPAPI pcre_cache_entry* pcre_get_compiled_reg...      php       0  \n\n[1000 rows x 4 columns]",
      "text/html": "<div>\n<style scoped>\n    .dataframe tbody tr th:only-of-type {\n        vertical-align: middle;\n    }\n\n    .dataframe tbody tr th {\n        vertical-align: top;\n    }\n\n    .dataframe thead th {\n        text-align: right;\n    }\n</style>\n<table border=\"1\" class=\"dataframe\">\n  <thead>\n    <tr style=\"text-align: right;\">\n      <th></th>\n      <th>commit_id</th>\n      <th>func</th>\n      <th>project</th>\n      <th>target</th>\n    </tr>\n  </thead>\n  <tbody>\n    <tr>\n      <th>188459</th>\n      <td>04839626ed859623901ebd3a5fd483982186b59d</td>\n      <td>SeekHead::SeekHead(\\n    Segment* pSegment,\\n ...</td>\n      <td>Android</td>\n      <td>1</td>\n    </tr>\n    <tr>\n      <th>188635</th>\n      <td>d4a34fefbf292d1e02336e4e272da3ef1e3eef85</td>\n      <td>uint8_t rfc_parse_data(tRFC_MCB* p_mcb, MX_FRA...</td>\n      <td>Android</td>\n      <td>1</td>\n    </tr>\n    <tr>\n      <th>188527</th>\n      <td>5a9753fca56f0eeb9f61e342b2fccffc364f9426</td>\n      <td>virtual void SetUp() {\\n     UUT_ = GET_PAR...</td>\n      <td>Android</td>\n      <td>1</td>\n    </tr>\n    <tr>\n      <th>188417</th>\n      <td>04839626ed859623901ebd3a5fd483982186b59d</td>\n      <td>void CuePoint::Load(IMkvReader* pReader)\\n{\\n ...</td>\n      <td>Android</td>\n      <td>1</td>\n    </tr>\n    <tr>\n      <th>188603</th>\n      <td>5a9753fca56f0eeb9f61e342b2fccffc364f9426</td>\n      <td>SvcTest()\\n       : codec_iface_(0),\\n     ...</td>\n      <td>Android</td>\n      <td>1</td>\n    </tr>\n    <tr>\n      <th>...</th>\n      <td>...</td>\n      <td>...</td>\n      <td>...</td>\n      <td>...</td>\n    </tr>\n    <tr>\n      <th>188238</th>\n      <td>295c883fe3105b19bcd0f9e07d54c6b589fc5bff</td>\n      <td>OMX_ERRORTYPE SoftOpus::internalGetParameter(\\...</td>\n      <td>Android</td>\n      <td>1</td>\n    </tr>\n    <tr>\n      <th>188255</th>\n      <td>ca8ac8acdad662230ae37998c6c4091bb39402b6</td>\n      <td>bool CmapCoverage::getCoverage(SparseBitSet&amp; c...</td>\n      <td>Android</td>\n      <td>1</td>\n    </tr>\n    <tr>\n      <th>188605</th>\n      <td>5a9753fca56f0eeb9f61e342b2fccffc364f9426</td>\n      <td>int main(int argc, char **argv) {\\n ::testing:...</td>\n      <td>Android</td>\n      <td>1</td>\n    </tr>\n    <tr>\n      <th>203</th>\n      <td>1ddf72180a52d247db88ea42a3e35f824a8fbda2</td>\n      <td>int phar_mount_entry(phar_archive_data *phar, ...</td>\n      <td>php</td>\n      <td>0</td>\n    </tr>\n    <tr>\n      <th>54</th>\n      <td>c351b47ce85a3a147cfa801fa9f0149ab4160834</td>\n      <td>PHPAPI pcre_cache_entry* pcre_get_compiled_reg...</td>\n      <td>php</td>\n      <td>0</td>\n    </tr>\n  </tbody>\n</table>\n<p>1000 rows × 4 columns</p>\n</div>"
     },
     "execution_count": 27,
     "metadata": {},
     "output_type": "execute_result"
    }
   ],
   "source": [
    "msr_balanced_500 = msr_balanced_500.sample(frac=1, random_state=69)\n",
    "msr_balanced_500"
   ],
   "metadata": {
    "collapsed": false,
    "ExecuteTime": {
     "end_time": "2023-08-11T07:00:16.064822Z",
     "start_time": "2023-08-11T07:00:16.059672100Z"
    }
   }
  },
  {
   "cell_type": "code",
   "execution_count": 35,
   "outputs": [
    {
     "name": "stdout",
     "output_type": "stream",
     "text": [
      "0\n",
      "0    52\n",
      "1    48\n",
      "Name: target, dtype: int64\n",
      "1\n",
      "0    53\n",
      "1    47\n",
      "Name: target, dtype: int64\n",
      "2\n",
      "1    56\n",
      "0    44\n",
      "Name: target, dtype: int64\n",
      "3\n",
      "0    55\n",
      "1    45\n",
      "Name: target, dtype: int64\n",
      "4\n",
      "1    52\n",
      "0    48\n",
      "Name: target, dtype: int64\n",
      "5\n",
      "0    54\n",
      "1    46\n",
      "Name: target, dtype: int64\n",
      "6\n",
      "0    57\n",
      "1    43\n",
      "Name: target, dtype: int64\n",
      "7\n",
      "1    56\n",
      "0    44\n",
      "Name: target, dtype: int64\n",
      "8\n",
      "1    51\n",
      "0    49\n",
      "Name: target, dtype: int64\n",
      "9\n",
      "1    56\n",
      "0    44\n",
      "Name: target, dtype: int64\n"
     ]
    }
   ],
   "source": [
    "import numpy as np\n",
    "len_size = len(msr_balanced_500)\n",
    "slices = msr_balanced_500.groupby(np.arange(len_size)//100)\n",
    "slices = [(s, slice.apply(lambda x: x)) for s, slice in slices]\n",
    "for s, slice in slices:\n",
    "    print(s)\n",
    "    print(slice.target.value_counts())\n"
   ],
   "metadata": {
    "collapsed": false,
    "ExecuteTime": {
     "end_time": "2023-08-11T07:08:09.960822400Z",
     "start_time": "2023-08-11T07:08:09.938824600Z"
    }
   }
  },
  {
   "cell_type": "code",
   "execution_count": 39,
   "outputs": [],
   "source": [
    "msr_balanced_500.to_json(\n",
    "    path_or_buf=msr_500_file_path,\n",
    "    # index=False,\n",
    "    orient=\"records\"\n",
    ")"
   ],
   "metadata": {
    "collapsed": false,
    "ExecuteTime": {
     "end_time": "2023-08-11T07:10:42.815399600Z",
     "start_time": "2023-08-11T07:10:42.413065500Z"
    }
   }
  }
 ],
 "metadata": {
  "kernelspec": {
   "display_name": "Python 3",
   "language": "python",
   "name": "python3"
  },
  "language_info": {
   "codemirror_mode": {
    "name": "ipython",
    "version": 2
   },
   "file_extension": ".py",
   "mimetype": "text/x-python",
   "name": "python",
   "nbconvert_exporter": "python",
   "pygments_lexer": "ipython2",
   "version": "2.7.6"
  }
 },
 "nbformat": 4,
 "nbformat_minor": 0
}
